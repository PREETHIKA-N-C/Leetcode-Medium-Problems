{
  "nbformat": 4,
  "nbformat_minor": 0,
  "metadata": {
    "colab": {
      "provenance": []
    },
    "kernelspec": {
      "name": "python3",
      "display_name": "Python 3"
    },
    "language_info": {
      "name": "python"
    }
  },
  "cells": [
    {
      "cell_type": "markdown",
      "source": [
        "# **204. Count Primes**\n",
        "\n",
        "Given an integer n, return the number of prime numbers that are strictly less than n.\n",
        "\n",
        "\n",
        "\n",
        "**Example 1:**\n",
        "\n",
        "Input: n = 10\n",
        "\n",
        "Output: 4\n",
        "\n",
        "Explanation: There are 4 prime numbers less than 10, they are 2, 3, 5, 7.\n",
        "\n",
        "\n",
        "**Example 2:**\n",
        "\n",
        "Input: n = 0\n",
        "\n",
        "Output: 0\n",
        "\n",
        "**Example 3:**\n",
        "\n",
        "Input: n = 1\n",
        "Output: 0\n",
        "\n",
        "\n",
        "**Constraints:**\n",
        "\n",
        "0 <= n <= 5 * 106"
      ],
      "metadata": {
        "id": "Pr1M8ABHCjeb"
      }
    },
    {
      "cell_type": "code",
      "source": [
        "import math\n",
        "\n",
        "class Solution:\n",
        "    def countPrimes(self, n: int) -> int:\n",
        "        # Check if n is less than 2, return 0 since there are no primes less than 2\n",
        "        if n < 2:\n",
        "            return 0\n",
        "\n",
        "        # Create a boolean list 'prime' to mark numbers as prime or not\n",
        "        prime = [True for i in range(n)]\n",
        "\n",
        "        # Mark 0 and 1 as not prime\n",
        "        prime[0] = prime[1] = False\n",
        "\n",
        "        # Iterate through numbers starting from 2 up to the square root of n\n",
        "        for i in range(2, math.ceil(math.sqrt(n))):\n",
        "            # Check if i is marked as prime\n",
        "            if prime[i]:\n",
        "                # Mark multiples of i as not prime\n",
        "                for j in range(i*i, n , i):\n",
        "                    prime[j] = False\n",
        "\n",
        "        # Return the count of primes using the sum of the boolean list 'prime'\n",
        "        return sum(prime)"
      ],
      "metadata": {
        "id": "0PlVcE9mC5Fy"
      },
      "execution_count": 1,
      "outputs": []
    },
    {
      "cell_type": "code",
      "source": [
        "# Example usage\n",
        "solution_instance = Solution()\n",
        "\n",
        "# Example 1\n",
        "result1 = solution_instance.countPrimes(10)\n",
        "print(result1)  # Output: 4\n",
        "\n",
        "# Example 2\n",
        "result2 = solution_instance.countPrimes(0)\n",
        "print(result2)  # Output: 0\n",
        "\n",
        "# Example 3\n",
        "result3 = solution_instance.countPrimes(1)\n",
        "print(result3)  # Output: 0"
      ],
      "metadata": {
        "colab": {
          "base_uri": "https://localhost:8080/"
        },
        "id": "58Xzr6hTKvAL",
        "outputId": "70f04ab6-bcc7-4efa-8304-0d516f4263b6"
      },
      "execution_count": 2,
      "outputs": [
        {
          "output_type": "stream",
          "name": "stdout",
          "text": [
            "4\n",
            "0\n",
            "0\n"
          ]
        }
      ]
    },
    {
      "cell_type": "markdown",
      "source": [
        "# **Solution Explanation:**\n",
        "\n",
        "**Edge Case Check:**\n",
        "\n",
        "Check if n is less than 2. If true, return 0 since there are no prime numbers less than 2.\n",
        "\n",
        "**Prime List Initialization:**\n",
        "\n",
        "Create a boolean list prime of length n and initialize all values to True. This list will be used to mark numbers as prime or not.\n",
        "\n",
        "**Mark 0 and 1 as Not Prime:**\n",
        "\n",
        "Set prime[0] and prime[1] to False since 0 and 1 are not prime numbers.\n",
        "\n",
        "**Sieve of Eratosthenes:**\n",
        "\n",
        "Iterate through numbers starting from 2 up to the square root of n.\n",
        "Check if the current number i is marked as prime (prime[i] is True).\n",
        "If true, mark multiples of i as not prime by setting prime[j] to False for each multiple j of i.\n",
        "\n",
        "**Count Primes:**\n",
        "\n",
        "Return the count of prime numbers by summing the boolean list prime. The True values in the list represent prime numbers.\n"
      ],
      "metadata": {
        "id": "jSwwS5cNLBmd"
      }
    },
    {
      "cell_type": "markdown",
      "source": [
        "Test Cases Satisfied.\n",
        "\n",
        "Now you can try it on your own with different methods and submit it in the leetcode : )\n",
        "\n",
        "Happy Coding!!"
      ],
      "metadata": {
        "id": "AhMmaRkFLXNj"
      }
    }
  ]
}