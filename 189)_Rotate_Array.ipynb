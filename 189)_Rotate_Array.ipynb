{
  "nbformat": 4,
  "nbformat_minor": 0,
  "metadata": {
    "colab": {
      "provenance": []
    },
    "kernelspec": {
      "name": "python3",
      "display_name": "Python 3"
    },
    "language_info": {
      "name": "python"
    }
  },
  "cells": [
    {
      "cell_type": "markdown",
      "source": [
        "# **189. Rotate Array**\n",
        "\n",
        "Given an integer array nums, rotate the array to the right by k steps, where k is non-negative.\n",
        "\n",
        "\n",
        "\n",
        "Example 1:\n",
        "\n",
        "Input: nums = [1,2,3,4,5,6,7], k = 3\n",
        "\n",
        "Output: [5,6,7,1,2,3,4]\n",
        "\n",
        "Explanation:\n",
        "\n",
        "rotate 1 steps to the right: [7,1,2,3,4,5,6]\n",
        "\n",
        "rotate 2 steps to the right: [6,7,1,2,3,4,5]\n",
        "\n",
        "rotate 3 steps to the right: [5,6,7,1,2,3,4]\n",
        "\n",
        "Example 2:\n",
        "\n",
        "Input: nums = [-1,-100,3,99], k = 2\n",
        "\n",
        "Output: [3,99,-1,-100]\n",
        "\n",
        "Explanation:\n",
        "\n",
        "rotate 1 steps to the right: [99,-1,-100,3]\n",
        "\n",
        "rotate 2 steps to the right: [3,99,-1,-100]\n",
        "\n",
        "\n",
        "Constraints:\n",
        "\n",
        "1 <= nums.length <= 105\n",
        "\n",
        "-231 <= nums[i] <= 231 - 1\n",
        "\n",
        "0 <= k <= 105\n",
        "\n",
        "\n",
        "Follow up:\n",
        "\n",
        "Try to come up with as many solutions as you can. There are at least three different ways to solve this problem.\n",
        "Could you do it in-place with O(1) extra space?"
      ],
      "metadata": {
        "id": "KaOizLBFLrP-"
      }
    },
    {
      "cell_type": "code",
      "source": [
        "from typing import List\n",
        "class Solution:\n",
        "    def rotate(self, nums: List[int], k: int) -> None:\n",
        "        \"\"\"\n",
        "        Do not return anything, modify nums in-place instead.\n",
        "        \"\"\"\n",
        "        # Ensure k is within the length of the array\n",
        "        k = k % len(nums)\n",
        "\n",
        "        # Helper function to reverse elements in nums from index l to r\n",
        "        def rev(l, r):\n",
        "            while l < r:\n",
        "                nums[l], nums[r] = nums[r], nums[l]\n",
        "                l, r = l + 1, r - 1\n",
        "\n",
        "        # Reverse the entire array\n",
        "        rev(0, len(nums) - 1)\n",
        "\n",
        "        # Reverse the first k elements\n",
        "        rev(0, k - 1)\n",
        "\n",
        "        # Reverse the remaining elements\n",
        "        rev(k, len(nums) - 1)"
      ],
      "metadata": {
        "id": "hjWUHAb0MEtw"
      },
      "execution_count": 3,
      "outputs": []
    },
    {
      "cell_type": "markdown",
      "source": [
        "# **Solution Explanation:**\n",
        "\n",
        "**Modulo Operation (k % len(nums))**\n",
        "\n",
        "This line ensures that k is adjusted to be within the range of the array length. If k is greater than the length of nums, the rotation wraps around.\n",
        "Helper Function (rev)\n",
        "\n",
        "This function is designed to reverse elements in the nums array between indices l and r (inclusive).\n",
        "It uses a two-pointer approach to swap elements from the start and end of the specified range until the pointers meet in the middle.\n",
        "Reversing the Array in Three Steps\n",
        "\n",
        "**Step 1: Reverse the Entire Array**\n",
        "\n",
        "rev(0, len(nums) - 1) reverses the entire array.\n",
        "\n",
        "**Step 2: Reverse the First k Elements**\n",
        "\n",
        "rev(0, k - 1) reverses the first k elements of the array.\n",
        "\n",
        "**Step 3: Reverse the Remaining Elements**\n",
        "\n",
        "rev(k, len(nums) - 1) reverses the remaining elements of the array.\n",
        "\n",
        "Example:\n",
        "Let's take the first example provided in the prompt:\n",
        "\n",
        "nums = [1, 2, 3, 4, 5, 6, 7]\n",
        "\n",
        "k = 3\n",
        "\n",
        "After each step:\n",
        "\n",
        "Reverse the entire array: [7, 6, 5, 4, 3, 2, 1]\n",
        "\n",
        "Reverse the first k elements (3): [5, 6, 7, 4, 3, 2, 1]\n",
        "\n",
        "Reverse the remaining elements: [5, 6, 7, 1, 2, 3, 4]\n",
        "\n",
        "The final result is [5, 6, 7, 1, 2, 3, 4], which is the desired output."
      ],
      "metadata": {
        "id": "2WJu4SLdM-CH"
      }
    },
    {
      "cell_type": "markdown",
      "source": [
        "Test Cases Satisfied.\n",
        "\n",
        "Now you can try it on your own with different methods and submit it in the leetcode : )\n",
        "\n",
        "Happy Coding!!"
      ],
      "metadata": {
        "id": "PJClH3V7NkZt"
      }
    }
  ]
}