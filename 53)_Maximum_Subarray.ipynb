{
  "nbformat": 4,
  "nbformat_minor": 0,
  "metadata": {
    "colab": {
      "provenance": []
    },
    "kernelspec": {
      "name": "python3",
      "display_name": "Python 3"
    },
    "language_info": {
      "name": "python"
    }
  },
  "cells": [
    {
      "cell_type": "markdown",
      "source": [
        "# **53. Maximum Subarray**\n",
        "\n",
        "Given an integer array nums, find the\n",
        "subarray\n",
        " with the largest sum, and return its sum.\n",
        "\n",
        "\n",
        "\n",
        "Example 1:\n",
        "\n",
        "Input: nums = [-2,1,-3,4,-1,2,1,-5,4]\n",
        "Output: 6\n",
        "Explanation: The subarray [4,-1,2,1] has the largest sum 6.\n",
        "\n",
        "Example 2:\n",
        "\n",
        "Input: nums = [1]\n",
        "Output: 1\n",
        "Explanation: The subarray [1] has the largest sum 1.\n",
        "\n",
        "Example 3:\n",
        "\n",
        "Input: nums = [5,4,-1,7,8]\n",
        "Output: 23\n",
        "Explanation: The subarray [5,4,-1,7,8] has the largest sum 23.\n",
        "\n",
        "\n",
        "Constraints:\n",
        "\n",
        "1 <= nums.length <= 105\n",
        "\n",
        "-104 <= nums[i] <= 104\n",
        "\n",
        "\n"
      ],
      "metadata": {
        "id": "4AKiXJ4GZRO-"
      }
    },
    {
      "cell_type": "code",
      "source": [
        "from typing import List"
      ],
      "metadata": {
        "id": "0oRt9I7QoKuy"
      },
      "execution_count": 9,
      "outputs": []
    },
    {
      "cell_type": "code",
      "source": [
        "class Solution:\n",
        "    def maxSubArray(self, nums: List[int]) -> int:\n",
        "        #Let's consider first element as max before iterate through the entire list\n",
        "        maxSub = nums[0]\n",
        "        currSum = 0\n",
        "        for num in nums:\n",
        "          #Input Array has both negative and positive elements but negative elements will decreases the sum value so let's remove it\n",
        "            if currSum < 0:\n",
        "                currSum = 0 #Reset to zero if the element is negative\n",
        "            currSum = currSum + num\n",
        "            maxSub = max(maxSub,currSum)\n",
        "        return maxSub"
      ],
      "metadata": {
        "id": "vJvDCwF2ZqJZ"
      },
      "execution_count": 10,
      "outputs": []
    },
    {
      "cell_type": "code",
      "source": [
        "solution_instance = Solution()\n",
        "\n",
        "List = []\n",
        "#total no of elements as input\n",
        "n = int(input(\"Enter number of elements : \"))\n",
        "# iterating till the range\n",
        "for i in range(0, n):\n",
        "    ele = int(input())\n",
        "    # appending the element to the list\n",
        "    List.append(ele)\n",
        "\n",
        "print(List)\n",
        "MaxSubArray = solution_instance.maxSubArray(List)\n",
        "print(\"Sum of Maximum Subarray:\",MaxSubArray)"
      ],
      "metadata": {
        "colab": {
          "base_uri": "https://localhost:8080/"
        },
        "id": "SjeKKd0MnfH6",
        "outputId": "a0ab36fd-3e49-4333-86e6-69edec6debea"
      },
      "execution_count": 14,
      "outputs": [
        {
          "output_type": "stream",
          "name": "stdout",
          "text": [
            "Enter number of elements : 9\n",
            "-2\n",
            "1\n",
            "-3\n",
            "4\n",
            "-1\n",
            "2\n",
            "1\n",
            "-5\n",
            "4\n",
            "[-2, 1, -3, 4, -1, 2, 1, -5, 4]\n",
            "Sum of Maximum Subarray: 6\n"
          ]
        }
      ]
    },
    {
      "cell_type": "markdown",
      "source": [
        "Test Cases Satisfied.\n",
        "\n",
        "Now you can try it on your own with different methods and submit it in the leetcode : )\n",
        "\n",
        "\n",
        "Happy Coding!!"
      ],
      "metadata": {
        "id": "qZIFPyuBrSNp"
      }
    }
  ]
}