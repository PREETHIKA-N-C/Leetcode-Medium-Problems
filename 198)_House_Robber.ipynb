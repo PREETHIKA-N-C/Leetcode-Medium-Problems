{
  "nbformat": 4,
  "nbformat_minor": 0,
  "metadata": {
    "colab": {
      "provenance": []
    },
    "kernelspec": {
      "name": "python3",
      "display_name": "Python 3"
    },
    "language_info": {
      "name": "python"
    }
  },
  "cells": [
    {
      "cell_type": "markdown",
      "source": [
        "# **198. House Robber**\n",
        "\n",
        "You are a professional robber planning to rob houses along a street. Each house has a certain amount of money stashed, the only constraint stopping you from robbing each of them is that adjacent houses have security systems connected and it will automatically contact the police if two adjacent houses were broken into on the same night.\n",
        "\n",
        "Given an integer array nums representing the amount of money of each house, return the maximum amount of money you can rob tonight without alerting the police.\n",
        "\n",
        "\n",
        "\n",
        "Example 1:\n",
        "\n",
        "Input: nums = [1,2,3,1]\n",
        "Output: 4\n",
        "Explanation: Rob house 1 (money = 1) and then rob house 3 (money = 3).\n",
        "Total amount you can rob = 1 + 3 = 4.\n",
        "\n",
        "Example 2:\n",
        "\n",
        "Input: nums = [2,7,9,3,1]\n",
        "Output: 12\n",
        "Explanation: Rob house 1 (money = 2), rob house 3 (money = 9) and rob house 5 (money = 1).\n",
        "Total amount you can rob = 2 + 9 + 1 = 12.\n",
        "\n",
        "\n",
        "Constraints:\n",
        "\n",
        "1 <= nums.length <= 100\n",
        "\n",
        "0 <= nums[i] <= 400"
      ],
      "metadata": {
        "id": "wp9MqjAYygnp"
      }
    },
    {
      "cell_type": "code",
      "source": [
        "# Import List from typing module\n",
        "from typing import List\n",
        "\n",
        "# Define the Solution class and its methods\n",
        "class Solution:\n",
        "    def rob(self, nums: List[int]) -> int:\n",
        "        # Check if there is only one house\n",
        "        if len(nums) == 1:\n",
        "            return nums[0]\n",
        "\n",
        "        # Initialize an array to store maximum robbed amount for each house\n",
        "        da = [0] * len(nums)\n",
        "\n",
        "        # Base cases for the first two houses\n",
        "        da[0] = nums[0]\n",
        "        da[1] = max(nums[0], nums[1])\n",
        "\n",
        "        # Iterate from the third house to the last house\n",
        "        for i in range(2, len(nums)):\n",
        "            # Calculate the maximum amount that can be robbed for the current house\n",
        "            da[i] = max(nums[i] + da[i-2], da[i-1])\n",
        "\n",
        "        # Return the maximum amount that can be robbed from all the houses\n",
        "        return da[-1]"
      ],
      "metadata": {
        "id": "QfbtxCaZy2rB"
      },
      "execution_count": 1,
      "outputs": []
    },
    {
      "cell_type": "code",
      "source": [
        "# Create an instance of the Solution class\n",
        "solution_instance = Solution()\n",
        "\n",
        "# Example 1\n",
        "nums1 = [1, 2, 3, 1]\n",
        "output1 = solution_instance.rob(nums1)\n",
        "print(output1)  # Output: 4\n",
        "\n",
        "# Example 2\n",
        "nums2 = [2, 7, 9, 3, 1]\n",
        "output2 = solution_instance.rob(nums2)\n",
        "print(output2)  # Output: 12"
      ],
      "metadata": {
        "colab": {
          "base_uri": "https://localhost:8080/"
        },
        "id": "d3AuE4Gu0Uj-",
        "outputId": "c7e4e2e6-e491-43dc-c82c-1d5ee4386795"
      },
      "execution_count": 2,
      "outputs": [
        {
          "output_type": "stream",
          "name": "stdout",
          "text": [
            "4\n",
            "12\n"
          ]
        }
      ]
    },
    {
      "cell_type": "markdown",
      "source": [
        "# **Solution Explanation:**\n",
        "\n",
        "**Initialization:**\n",
        "\n",
        "if len(nums) == 1:\n",
        "    return nums[0]\n",
        "    \n",
        "If there is only one house, return the amount of money in that house.\n",
        "\n",
        "**Dynamic Programming Initialization:**\n",
        "\n",
        "da = [0] * len(nums)\n",
        "\n",
        "da[0] = nums[0]\n",
        "\n",
        "da[1] = max(nums[0], nums[1])\n",
        "\n",
        "Initialize an array da to store the maximum amount of money that can be robbed up to each house.\n",
        "Set the base cases for the first and second houses.\n",
        "\n",
        "**Dynamic Programming Loop:**\n",
        "\n",
        "for i in range(2, len(nums)):\n",
        "    da[i] = max(nums[i] + da[i-2], da[i-1])\n",
        "\n",
        "Iterate from the third house to the last house.\n",
        "\n",
        "For each house, calculate the maximum amount of money that can be robbed:\n",
        "\n",
        "Rob the current house and the one before the previous one (nums[i] + da[i-2]).\n",
        "Skip the current house and consider the maximum amount robbed so far (da[i-1]).\n",
        "Update the result in the da array.\n",
        "\n",
        "**Return the Result:**\n",
        "\n",
        "return da[-1]\n",
        "\n",
        "Return the maximum amount of money that can be robbed from all the houses, which is stored in the last element of the da array.\n",
        "\n",
        "Now, let's apply this logic to the examples provided:\n",
        "\n",
        "Example 1:\n",
        "\n",
        "nums = [1, 2, 3, 1]\n",
        "\n",
        "solution = Solution()\n",
        "\n",
        "output = solution.rob(nums)\n",
        "\n",
        "print(output)\n",
        "\n",
        "da[0] = 1\n",
        "\n",
        "da[1] = max(1, 2) = 2\n",
        "\n",
        "da[2] = max(3 + da[0], 2) = max(4, 2) = 4\n",
        "\n",
        "da[3] = max(1 + da[1], 4) = max(3, 4) = 4\n",
        "\n",
        "The maximum amount of money that can be robbed is 4. The output is 4.\n",
        "\n",
        "Example 2:\n",
        "\n",
        "nums = [2, 7, 9, 3, 1]\n",
        "\n",
        "solution = Solution()\n",
        "\n",
        "output = solution.rob(nums)\n",
        "\n",
        "print(output)\n",
        "\n",
        "da[0] = 2\n",
        "\n",
        "da[1] = max(2, 7) = 7\n",
        "\n",
        "da[2] = max(9 + da[0], 7) = max(11, 7) = 11\n",
        "\n",
        "da[3] = max(3 + da[1], 11) = max(10, 11) = 11\n",
        "\n",
        "da[4] = max(1 + da[2], 11) = max(12, 11) = 12\n",
        "\n",
        "The maximum amount of money that can be robbed is 12. The output is 12."
      ],
      "metadata": {
        "id": "pG6kpCWQ11KC"
      }
    },
    {
      "cell_type": "markdown",
      "source": [
        "Test Cases Satisfied.\n",
        "\n",
        "Now you can try it on your own with different methods and submit it in the leetcode : )\n",
        "\n",
        "\n",
        "Happy Coding!!"
      ],
      "metadata": {
        "id": "fSu37Bmf1NkZ"
      }
    }
  ]
}